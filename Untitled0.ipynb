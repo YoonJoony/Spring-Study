{
  "nbformat": 4,
  "nbformat_minor": 0,
  "metadata": {
    "colab": {
      "provenance": [],
      "authorship_tag": "ABX9TyNTPiIMDa4n0WF2zwHbqwcz",
      "include_colab_link": true
    },
    "kernelspec": {
      "name": "python3",
      "display_name": "Python 3"
    },
    "language_info": {
      "name": "python"
    }
  },
  "cells": [
    {
      "cell_type": "markdown",
      "metadata": {
        "id": "view-in-github",
        "colab_type": "text"
      },
      "source": [
        "<a href=\"https://colab.research.google.com/github/YoonJoony/Spring-Study/blob/main/Untitled0.ipynb\" target=\"_parent\"><img src=\"https://colab.research.google.com/assets/colab-badge.svg\" alt=\"Open In Colab\"/></a>"
      ]
    },
    {
      "cell_type": "markdown",
      "source": [
        "# pandas\n",
        "- 데이터 분석에 사용 : Table 사용\n",
        "- Series : 행 성생\n",
        "- DataFrmae : \n",
        "- list\n",
        "- tuple\n",
        "\n"
      ],
      "metadata": {
        "id": "7VofpD21miqF"
      }
    },
    {
      "cell_type": "code",
      "source": [
        "# row 데이터 생성\n",
        "import pandas as pd # 메소드 가져오기\n",
        "from random import randint # 난수 데이터 사용\n",
        "### (1) Series\n",
        "\n",
        "# 1. list\n",
        "db1 = []\n",
        "for i in range(0, 5, 1) : #반복 횟수 : 5번 반복, 1씩 증가\n",
        "  db1.append(randint(0, 100)) # 0 ~ 100 정수 난수 만들기\n",
        "print(db1, \"\\n\")\n",
        "\n",
        "# 2. series with list\n",
        "row1 = pd.Series(db1) #db1을 한 행으로 나타냄\n",
        "print(type(row1))\n",
        "\n",
        "# 3. reset its indices 기존 인덱스를 다른 인덱스로 바꾸기\n",
        "index_name = [\"python\", \"scala\", \"java\", \"R\", \"spark\"] # 열이 5개 이므로 속성 이름을 5개 바꿔줌\n",
        "row1 = pd.Series(db1, index_name) # 변수로 처리한 인덱스를 테이블에 적용\n",
        "print(row1)\n",
        "\n",
        "\n"
      ],
      "metadata": {
        "id": "AUTIVeSwm-Ia",
        "colab": {
          "base_uri": "https://localhost:8080/"
        },
        "outputId": "054a8a36-f995-499b-981c-e4c247e818d5"
      },
      "execution_count": 18,
      "outputs": [
        {
          "output_type": "stream",
          "name": "stdout",
          "text": [
            "[4, 85, 26, 76, 53] \n",
            "\n",
            "<class 'pandas.core.series.Series'>\n",
            "python     4\n",
            "scala     85\n",
            "java      26\n",
            "R         76\n",
            "spark     53\n",
            "dtype: int64\n"
          ]
        }
      ]
    },
    {
      "cell_type": "code",
      "source": [
        "from pandas.io.formats.style_render import Series\n",
        "# Series 데이터 접근(1) : indexing, slicing\n",
        "import pandas as pd\n",
        "print(row1[0], end=\"\\n\\n\") \n",
        "print(row1['java'], end=\"\\n\\n\") # 문자열 값으로 해도 조회됨\n",
        "print(row1[0:3], end=\"\\n\\n\") # 3개 조회\n",
        "# print(list(row1, index), end=\"\\n\\n\")\n",
        "print(row1.index(1), end=\"\\n\\n\") # 인덱스 1 행 이름 조회\n",
        "\n",
        "print(row1.values);\n"
      ],
      "metadata": {
        "colab": {
          "base_uri": "https://localhost:8080/",
          "height": 385
        },
        "id": "wIoCKvuNqwKL",
        "outputId": "dbb03361-78d4-4289-fd5c-3769d0c8f33a"
      },
      "execution_count": 37,
      "outputs": [
        {
          "output_type": "stream",
          "name": "stdout",
          "text": [
            "4\n",
            "\n",
            "26\n",
            "\n",
            "python     4\n",
            "scala     85\n",
            "java      26\n",
            "dtype: int64\n",
            "\n"
          ]
        },
        {
          "output_type": "error",
          "ename": "TypeError",
          "evalue": "ignored",
          "traceback": [
            "\u001b[0;31m---------------------------------------------------------------------------\u001b[0m",
            "\u001b[0;31mTypeError\u001b[0m                                 Traceback (most recent call last)",
            "\u001b[0;32m<ipython-input-37-6f3970198aaa>\u001b[0m in \u001b[0;36m<cell line: 8>\u001b[0;34m()\u001b[0m\n\u001b[1;32m      6\u001b[0m \u001b[0mprint\u001b[0m\u001b[0;34m(\u001b[0m\u001b[0mrow1\u001b[0m\u001b[0;34m[\u001b[0m\u001b[0;36m0\u001b[0m\u001b[0;34m:\u001b[0m\u001b[0;36m3\u001b[0m\u001b[0;34m]\u001b[0m\u001b[0;34m,\u001b[0m \u001b[0mend\u001b[0m\u001b[0;34m=\u001b[0m\u001b[0;34m\"\\n\\n\"\u001b[0m\u001b[0;34m)\u001b[0m \u001b[0;31m# 3개 조회\u001b[0m\u001b[0;34m\u001b[0m\u001b[0;34m\u001b[0m\u001b[0m\n\u001b[1;32m      7\u001b[0m \u001b[0;31m# print(list(row1, index), end=\"\\n\\n\")\u001b[0m\u001b[0;34m\u001b[0m\u001b[0;34m\u001b[0m\u001b[0m\n\u001b[0;32m----> 8\u001b[0;31m \u001b[0mprint\u001b[0m\u001b[0;34m(\u001b[0m\u001b[0mrow1\u001b[0m\u001b[0;34m.\u001b[0m\u001b[0mindex\u001b[0m\u001b[0;34m(\u001b[0m\u001b[0;36m1\u001b[0m\u001b[0;34m)\u001b[0m\u001b[0;34m,\u001b[0m \u001b[0mend\u001b[0m\u001b[0;34m=\u001b[0m\u001b[0;34m\"\\n\\n\"\u001b[0m\u001b[0;34m)\u001b[0m \u001b[0;31m# 인덱스 1 행 이름 조회\u001b[0m\u001b[0;34m\u001b[0m\u001b[0;34m\u001b[0m\u001b[0m\n\u001b[0m\u001b[1;32m      9\u001b[0m \u001b[0;34m\u001b[0m\u001b[0m\n\u001b[1;32m     10\u001b[0m \u001b[0mprint\u001b[0m\u001b[0;34m(\u001b[0m\u001b[0mrow1\u001b[0m\u001b[0;34m.\u001b[0m\u001b[0mvalues\u001b[0m\u001b[0;34m)\u001b[0m\u001b[0;34m;\u001b[0m\u001b[0;34m\u001b[0m\u001b[0;34m\u001b[0m\u001b[0m\n",
            "\u001b[0;31mTypeError\u001b[0m: 'Index' object is not callable"
          ]
        }
      ]
    },
    {
      "cell_type": "code",
      "source": [
        "# Series 데이터 연산 : \n",
        "#1. row 데이터 생성\n",
        "db2 = []\n",
        "for i in range(0, 5, 1) : #반복 횟수 : 5번 반복, 1씩 증가\n",
        "  db2.append(randint(0, 100)) # 0 ~ 100 정수 난수 만들기\n",
        "print(db2, \"\\n\")\n"
      ],
      "metadata": {
        "id": "63qnk49XuM-m"
      },
      "execution_count": null,
      "outputs": []
    },
    {
      "cell_type": "code",
      "source": [
        "\n",
        "# 2. series with list\n",
        "row2 = pd.Series(db2) #db1을 한 행으로 나타냄\n",
        "print(type(row2))\n",
        "\n",
        "# 3. reset its indices 기존 인덱스를 다른 인덱스로 바꾸기\n",
        "index_name = [\"python\", \"scala\", \"java\", \"R\", \"spark\"] # 열이 5개 이므로 속성 이름을 5개 바꿔줌\n",
        "row2 = pd.Series(db2, index_name) # 변수로 처리한 인덱스를 테이블에 적용\n",
        "print(row2, end=\"\\n\\n\")\n",
        "\n",
        "# 4. add two series 두 개의 시리즈를 더한다. => ㄴㄷ갿ㄴ\n",
        "sum = row1 + row2\n",
        "row3 = pd.Series(sum, index_name)\n",
        "row3 = pd.Series(sum, index = [\"python\", \"scala\", \"java\", \"R\", \"spark\"])\n",
        "print(row3, end=\"\\n\\n\")"
      ],
      "metadata": {
        "colab": {
          "base_uri": "https://localhost:8080/"
        },
        "id": "CSFOJ9Zrs3sK",
        "outputId": "d667bd3e-aed3-4b73-b95a-f2fd6283703e"
      },
      "execution_count": 47,
      "outputs": [
        {
          "output_type": "stream",
          "name": "stdout",
          "text": [
            "<class 'pandas.core.series.Series'>\n",
            "python    62\n",
            "scala     22\n",
            "java      13\n",
            "R         56\n",
            "spark     52\n",
            "dtype: int64\n",
            "\n",
            "python     66\n",
            "scala     107\n",
            "java       39\n",
            "R         132\n",
            "spark     105\n",
            "dtype: int64\n",
            "\n"
          ]
        }
      ]
    },
    {
      "cell_type": "markdown",
      "source": [
        "### (2) DataFrame\n",
        "- Series\n",
        "- list \n",
        "- file\n"
      ],
      "metadata": {
        "id": "eFtqF9Y4vfa7"
      }
    },
    {
      "cell_type": "code",
      "source": [
        "# DataFrame 생성 (1) : series 로 구성된 테이블\n",
        "rowset = [row1, row2, row3]\n",
        "\n",
        "table = pd.DataFrame(rowset)\n",
        "table #0, 1, 2 는 인덱스"
      ],
      "metadata": {
        "colab": {
          "base_uri": "https://localhost:8080/",
          "height": 142
        },
        "id": "CzxBl2nCv4QF",
        "outputId": "88010f95-5fa3-4a90-e192-4ec0b55b1d7b"
      },
      "execution_count": 49,
      "outputs": [
        {
          "output_type": "execute_result",
          "data": {
            "text/plain": [
              "   python  scala  java    R  spark\n",
              "0       4     85    26   76     53\n",
              "1      62     22    13   56     52\n",
              "2      66    107    39  132    105"
            ],
            "text/html": [
              "\n",
              "  <div id=\"df-b3e7a35d-c2f7-48c6-8a8d-3586729a4fc3\">\n",
              "    <div class=\"colab-df-container\">\n",
              "      <div>\n",
              "<style scoped>\n",
              "    .dataframe tbody tr th:only-of-type {\n",
              "        vertical-align: middle;\n",
              "    }\n",
              "\n",
              "    .dataframe tbody tr th {\n",
              "        vertical-align: top;\n",
              "    }\n",
              "\n",
              "    .dataframe thead th {\n",
              "        text-align: right;\n",
              "    }\n",
              "</style>\n",
              "<table border=\"1\" class=\"dataframe\">\n",
              "  <thead>\n",
              "    <tr style=\"text-align: right;\">\n",
              "      <th></th>\n",
              "      <th>python</th>\n",
              "      <th>scala</th>\n",
              "      <th>java</th>\n",
              "      <th>R</th>\n",
              "      <th>spark</th>\n",
              "    </tr>\n",
              "  </thead>\n",
              "  <tbody>\n",
              "    <tr>\n",
              "      <th>0</th>\n",
              "      <td>4</td>\n",
              "      <td>85</td>\n",
              "      <td>26</td>\n",
              "      <td>76</td>\n",
              "      <td>53</td>\n",
              "    </tr>\n",
              "    <tr>\n",
              "      <th>1</th>\n",
              "      <td>62</td>\n",
              "      <td>22</td>\n",
              "      <td>13</td>\n",
              "      <td>56</td>\n",
              "      <td>52</td>\n",
              "    </tr>\n",
              "    <tr>\n",
              "      <th>2</th>\n",
              "      <td>66</td>\n",
              "      <td>107</td>\n",
              "      <td>39</td>\n",
              "      <td>132</td>\n",
              "      <td>105</td>\n",
              "    </tr>\n",
              "  </tbody>\n",
              "</table>\n",
              "</div>\n",
              "      <button class=\"colab-df-convert\" onclick=\"convertToInteractive('df-b3e7a35d-c2f7-48c6-8a8d-3586729a4fc3')\"\n",
              "              title=\"Convert this dataframe to an interactive table.\"\n",
              "              style=\"display:none;\">\n",
              "        \n",
              "  <svg xmlns=\"http://www.w3.org/2000/svg\" height=\"24px\"viewBox=\"0 0 24 24\"\n",
              "       width=\"24px\">\n",
              "    <path d=\"M0 0h24v24H0V0z\" fill=\"none\"/>\n",
              "    <path d=\"M18.56 5.44l.94 2.06.94-2.06 2.06-.94-2.06-.94-.94-2.06-.94 2.06-2.06.94zm-11 1L8.5 8.5l.94-2.06 2.06-.94-2.06-.94L8.5 2.5l-.94 2.06-2.06.94zm10 10l.94 2.06.94-2.06 2.06-.94-2.06-.94-.94-2.06-.94 2.06-2.06.94z\"/><path d=\"M17.41 7.96l-1.37-1.37c-.4-.4-.92-.59-1.43-.59-.52 0-1.04.2-1.43.59L10.3 9.45l-7.72 7.72c-.78.78-.78 2.05 0 2.83L4 21.41c.39.39.9.59 1.41.59.51 0 1.02-.2 1.41-.59l7.78-7.78 2.81-2.81c.8-.78.8-2.07 0-2.86zM5.41 20L4 18.59l7.72-7.72 1.47 1.35L5.41 20z\"/>\n",
              "  </svg>\n",
              "      </button>\n",
              "      \n",
              "  <style>\n",
              "    .colab-df-container {\n",
              "      display:flex;\n",
              "      flex-wrap:wrap;\n",
              "      gap: 12px;\n",
              "    }\n",
              "\n",
              "    .colab-df-convert {\n",
              "      background-color: #E8F0FE;\n",
              "      border: none;\n",
              "      border-radius: 50%;\n",
              "      cursor: pointer;\n",
              "      display: none;\n",
              "      fill: #1967D2;\n",
              "      height: 32px;\n",
              "      padding: 0 0 0 0;\n",
              "      width: 32px;\n",
              "    }\n",
              "\n",
              "    .colab-df-convert:hover {\n",
              "      background-color: #E2EBFA;\n",
              "      box-shadow: 0px 1px 2px rgba(60, 64, 67, 0.3), 0px 1px 3px 1px rgba(60, 64, 67, 0.15);\n",
              "      fill: #174EA6;\n",
              "    }\n",
              "\n",
              "    [theme=dark] .colab-df-convert {\n",
              "      background-color: #3B4455;\n",
              "      fill: #D2E3FC;\n",
              "    }\n",
              "\n",
              "    [theme=dark] .colab-df-convert:hover {\n",
              "      background-color: #434B5C;\n",
              "      box-shadow: 0px 1px 3px 1px rgba(0, 0, 0, 0.15);\n",
              "      filter: drop-shadow(0px 1px 2px rgba(0, 0, 0, 0.3));\n",
              "      fill: #FFFFFF;\n",
              "    }\n",
              "  </style>\n",
              "\n",
              "      <script>\n",
              "        const buttonEl =\n",
              "          document.querySelector('#df-b3e7a35d-c2f7-48c6-8a8d-3586729a4fc3 button.colab-df-convert');\n",
              "        buttonEl.style.display =\n",
              "          google.colab.kernel.accessAllowed ? 'block' : 'none';\n",
              "\n",
              "        async function convertToInteractive(key) {\n",
              "          const element = document.querySelector('#df-b3e7a35d-c2f7-48c6-8a8d-3586729a4fc3');\n",
              "          const dataTable =\n",
              "            await google.colab.kernel.invokeFunction('convertToInteractive',\n",
              "                                                     [key], {});\n",
              "          if (!dataTable) return;\n",
              "\n",
              "          const docLinkHtml = 'Like what you see? Visit the ' +\n",
              "            '<a target=\"_blank\" href=https://colab.research.google.com/notebooks/data_table.ipynb>data table notebook</a>'\n",
              "            + ' to learn more about interactive tables.';\n",
              "          element.innerHTML = '';\n",
              "          dataTable['output_type'] = 'display_data';\n",
              "          await google.colab.output.renderOutput(dataTable, element);\n",
              "          const docLink = document.createElement('div');\n",
              "          docLink.innerHTML = docLinkHtml;\n",
              "          element.appendChild(docLink);\n",
              "        }\n",
              "      </script>\n",
              "    </div>\n",
              "  </div>\n",
              "  "
            ]
          },
          "metadata": {},
          "execution_count": 49
        }
      ]
    }
  ]
}